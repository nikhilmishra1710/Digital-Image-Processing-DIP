{
  "nbformat": 4,
  "nbformat_minor": 0,
  "metadata": {
    "colab": {
      "provenance": []
    },
    "kernelspec": {
      "name": "python3",
      "display_name": "Python 3"
    },
    "language_info": {
      "name": "python"
    }
  },
  "cells": [
    {
      "cell_type": "code",
      "execution_count": 68,
      "metadata": {
        "id": "6JOmujiw6qUn"
      },
      "outputs": [],
      "source": [
        "import numpy as np\n",
        "import matplotlib.pyplot as plt\n",
        "import cv2\n",
        "from math import ceil, log2\n",
        "from decimal import Decimal, getcontext\n",
        "getcontext().prec = 100"
      ]
    },
    {
      "cell_type": "code",
      "source": [
        "def convert_to_grayscale(matrix):\n",
        "  shape = matrix.shape\n",
        "  grayscale = np.zeros((shape[0],shape[1]),dtype=\"int\")\n",
        "  for i in range(shape[0]):\n",
        "    for j in range(shape[1]):\n",
        "      grayscale[i][j] = round(0.299*matrix[i][j][0] + 0.587*matrix[i][j][1] + 0.114*matrix[i][j][2])\n",
        "  return grayscale"
      ],
      "metadata": {
        "id": "6KBgEJId69w_"
      },
      "execution_count": 69,
      "outputs": []
    },
    {
      "cell_type": "code",
      "source": [
        "def load_image(path):\n",
        "  matrix=cv2.imread(path)\n",
        "  grayscale = convert_to_grayscale(matrix)\n",
        "  fig, axs = plt.subplots(1, 2, figsize=(10, 5))\n",
        "\n",
        "  axs[0].imshow(matrix)\n",
        "  axs[0].set_title(\"Original Image\")\n",
        "  axs[0].axis('off')\n",
        "  axs[1].imshow(grayscale, cmap='gray')\n",
        "  axs[1].set_title(\"Grayscale Image\")\n",
        "  axs[1].axis('off')\n",
        "  plt.show()\n",
        "\n",
        "  return grayscale"
      ],
      "metadata": {
        "id": "4U0p_c1w7BaF"
      },
      "execution_count": 70,
      "outputs": []
    },
    {
      "cell_type": "code",
      "source": [
        "def probabilities(grayscale):\n",
        "  total_pixels = grayscale.shape[0] * grayscale.shape[1]\n",
        "  unique_values, counts = np.unique(grayscale, return_counts=True)\n",
        "  probs = counts / total_pixels\n",
        "  probs_dict = dict(zip(unique_values, probs))\n",
        "  sorted_values = sorted(probs_dict.keys())\n",
        "  sorted_probs = [probs_dict[key] for key in sorted_values]\n",
        "  return sorted_values, sorted_probs"
      ],
      "metadata": {
        "id": "dbFH5tLW7S9H"
      },
      "execution_count": 71,
      "outputs": []
    },
    {
      "cell_type": "code",
      "source": [
        "def create_intervals(values, probs):\n",
        "    cumulative_prob = Decimal(0.0)\n",
        "    intervals = {}\n",
        "    for i in range(len(values)):\n",
        "        lower_bound = cumulative_prob\n",
        "        upper_bound = cumulative_prob + Decimal(probs[i])\n",
        "        intervals[values[i]] = (lower_bound, upper_bound)\n",
        "        cumulative_prob = upper_bound\n",
        "    return intervals"
      ],
      "metadata": {
        "id": "gyPJlaQlDdTQ"
      },
      "execution_count": 72,
      "outputs": []
    },
    {
      "cell_type": "code",
      "source": [
        "def arithmetic_encode(sequence, intervals):\n",
        "    low = Decimal(0.0)\n",
        "    high = Decimal(1.0)\n",
        "    for value in sequence:\n",
        "        range_ = high - low\n",
        "        high = low + range_ * intervals[value][1]\n",
        "        low = low + range_ * intervals[value][0]\n",
        "    return low + (high - low) / 2"
      ],
      "metadata": {
        "id": "E4Yn0oJuBE4P"
      },
      "execution_count": 73,
      "outputs": []
    },
    {
      "cell_type": "code",
      "source": [
        "def arithmetic_decode(encoded_value, intervals, length):\n",
        "    sequence = []\n",
        "    for _ in range(length):\n",
        "        for value, (low, high) in intervals.items():\n",
        "            if low <= encoded_value < high:\n",
        "                sequence.append(value)\n",
        "                encoded_value = (encoded_value - low) / (high - low)\n",
        "                break\n",
        "    return sequence"
      ],
      "metadata": {
        "id": "YPvvwHMGCxvg"
      },
      "execution_count": 74,
      "outputs": []
    },
    {
      "cell_type": "code",
      "source": [
        "def calculate_compression(original_size, encoded_value):\n",
        "    encoded_value_bits = ceil(-log2(encoded_value))\n",
        "    compression_ratio = original_size / encoded_value_bits\n",
        "\n",
        "    return encoded_value_bits, compression_ratio"
      ],
      "metadata": {
        "id": "z6tH0njDJhpf"
      },
      "execution_count": 75,
      "outputs": []
    },
    {
      "cell_type": "code",
      "source": [
        "def calculate_error_percentage(original, decoded):\n",
        "    error_matrix = np.abs(decoded.astype(int) - original.astype(int))\n",
        "    max_pixel_value = 255\n",
        "    total_pixels = original.size\n",
        "    error_sum = np.sum(error_matrix)\n",
        "    average_error = error_sum / total_pixels\n",
        "    error_percentage = (average_error / max_pixel_value) * 100\n",
        "\n",
        "    return error_percentage"
      ],
      "metadata": {
        "id": "P1TElWq5KBUX"
      },
      "execution_count": 86,
      "outputs": []
    },
    {
      "cell_type": "code",
      "source": [
        "def arithmetic_compression(input_path, output_path):\n",
        "  grayscale = load_image(input_path)\n",
        "  values, probs = probabilities(grayscale)\n",
        "  intervals = create_intervals(values, probs)\n",
        "  flatten_sequence = grayscale.flatten()\n",
        "\n",
        "  encoded_value = arithmetic_encode(flatten_sequence, intervals)\n",
        "  decoded_sequence = arithmetic_decode(encoded_value, intervals, len(flatten_sequence))\n",
        "\n",
        "  decoded_sequence = np.clip(np.array(decoded_sequence).reshape(grayscale.shape), 0, 255)\n",
        "  plt.imshow(decoded_sequence, cmap='gray')\n",
        "  plt.title(\"Decoded Image\")\n",
        "  plt.axis('off')\n",
        "  plt.show()\n",
        "  original_size_bits = flatten_sequence.size * 8\n",
        "  encoded_value_bits, compression_ratio = calculate_compression(original_size_bits, encoded_value)\n",
        "  error_percentage = calculate_error_percentage(grayscale, decoded_sequence)\n",
        "\n",
        "  print(f\"Original Size (in bits): {original_size_bits}\")\n",
        "  print(f\"Encoded Value Size (in bits): {encoded_value_bits}\")\n",
        "  print(f\"Compression Ratio: {compression_ratio:.2f}\")\n",
        "  print(f\"Error Percentage: {error_percentage:.2f}%\")\n",
        "\n",
        "  cv2.imwrite(output_path, decoded_sequence)\n",
        "\n"
      ],
      "metadata": {
        "id": "L9YeLvmP7DZA"
      },
      "execution_count": 87,
      "outputs": []
    },
    {
      "cell_type": "code",
      "source": [
        "arithmetic_compression('/content/image1.png','/content/decoded_image1.png')"
      ],
      "metadata": {
        "colab": {
          "base_uri": "https://localhost:8080/",
          "height": 813
        },
        "id": "gBiALdK07MuB",
        "outputId": "a3ebaf1c-bb66-4dfe-acfb-660accb786af"
      },
      "execution_count": 88,
      "outputs": [
        {
          "output_type": "display_data",
          "data": {
            "text/plain": [
              "<Figure size 1000x500 with 2 Axes>"
            ],
            "image/png": "[encoded data removed]"
          },
          "metadata": {}
        },
        {
          "output_type": "display_data",
          "data": {
            "text/plain": [
              "<Figure size 640x480 with 1 Axes>"
            ],
            "image/png": "[encoded data removed]"
          },
          "metadata": {}
        },
        {
          "output_type": "stream",
          "name": "stdout",
          "text": [
            "Original Size (in bits): 512\n",
            "Encoded Value Size (in bits): 12\n",
            "Compression Ratio: 42.67\n",
            "Error Percentage: 5.69%\n"
          ]
        }
      ]
    },
    {
      "cell_type": "code",
      "source": [],
      "metadata": {
        "id": "pRDkglQeIhHn"
      },
      "execution_count": null,
      "outputs": []
    }
  ]
}